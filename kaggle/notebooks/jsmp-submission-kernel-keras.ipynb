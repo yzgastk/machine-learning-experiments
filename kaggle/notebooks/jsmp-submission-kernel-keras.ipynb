{
 "cells": [
  {
   "cell_type": "markdown",
   "metadata": {
    "papermill": {
     "duration": 0.007265,
     "end_time": "2020-12-04T13:15:15.496403",
     "exception": false,
     "start_time": "2020-12-04T13:15:15.489138",
     "status": "completed"
    },
    "tags": []
   },
   "source": [
    "# Basic DNN - Submission\n",
    "\n",
    "This is the last part of the different notebook. This one is used to make the submission. The other notebook are available here :\n",
    "* [JSMP | Basic EDA Starter](https://www.kaggle.com/yzgast/jsmp-basic-eda-starter)\n",
    "* [JSMP | DNN - Training - Keras]()"
   ]
  },
  {
   "cell_type": "code",
   "execution_count": 1,
   "metadata": {
    "_cell_guid": "b1076dfc-b9ad-4769-8c92-a6c4dae69d19",
    "_uuid": "8f2839f25d086af736a60e9eeb907d3b93b6e0e5",
    "execution": {
     "iopub.execute_input": "2020-12-04T13:15:15.518882Z",
     "iopub.status.busy": "2020-12-04T13:15:15.517719Z",
     "iopub.status.idle": "2020-12-04T13:15:23.953484Z",
     "shell.execute_reply": "2020-12-04T13:15:23.952635Z"
    },
    "papermill": {
     "duration": 8.448954,
     "end_time": "2020-12-04T13:15:23.953622",
     "exception": false,
     "start_time": "2020-12-04T13:15:15.504668",
     "status": "completed"
    },
    "tags": []
   },
   "outputs": [],
   "source": [
    "import numpy as np\n",
    "import pandas as pd\n",
    "import pickle\n",
    "\n",
    "from keras.models import load_model\n",
    "\n",
    "from sklearn.decomposition import PCA\n",
    "\n",
    "from tensorflow import random\n",
    "\n",
    "random.set_seed(5577)"
   ]
  },
  {
   "cell_type": "markdown",
   "metadata": {
    "papermill": {
     "duration": 0.006027,
     "end_time": "2020-12-04T13:15:23.966473",
     "exception": false,
     "start_time": "2020-12-04T13:15:23.960446",
     "status": "completed"
    },
    "tags": []
   },
   "source": [
    "## Loading the saved model & PCA fit"
   ]
  },
  {
   "cell_type": "code",
   "execution_count": 2,
   "metadata": {
    "_cell_guid": "79c7e3d0-c299-4dcb-8224-4455121ee9b0",
    "_uuid": "d629ff2d2480ee46fbb7e2d37f6b5fab8052498a",
    "execution": {
     "iopub.execute_input": "2020-12-04T13:15:23.985290Z",
     "iopub.status.busy": "2020-12-04T13:15:23.984498Z",
     "iopub.status.idle": "2020-12-04T13:15:25.212330Z",
     "shell.execute_reply": "2020-12-04T13:15:25.211333Z"
    },
    "papermill": {
     "duration": 1.239689,
     "end_time": "2020-12-04T13:15:25.212544",
     "exception": false,
     "start_time": "2020-12-04T13:15:23.972855",
     "status": "completed"
    },
    "tags": []
   },
   "outputs": [
    {
     "name": "stdout",
     "output_type": "stream",
     "text": [
      "Model: \"sequential_4\"\n",
      "_________________________________________________________________\n",
      "Layer (type)                 Output Shape              Param #   \n",
      "=================================================================\n",
      "dense_16 (Dense)             (None, 1024)              12288     \n",
      "_________________________________________________________________\n",
      "dropout_12 (Dropout)         (None, 1024)              0         \n",
      "_________________________________________________________________\n",
      "dense_17 (Dense)             (None, 1024)              1049600   \n",
      "_________________________________________________________________\n",
      "dropout_13 (Dropout)         (None, 1024)              0         \n",
      "_________________________________________________________________\n",
      "dense_18 (Dense)             (None, 1024)              1049600   \n",
      "_________________________________________________________________\n",
      "dropout_14 (Dropout)         (None, 1024)              0         \n",
      "_________________________________________________________________\n",
      "dense_19 (Dense)             (None, 1)                 1025      \n",
      "=================================================================\n",
      "Total params: 2,112,513\n",
      "Trainable params: 2,112,513\n",
      "Non-trainable params: 0\n",
      "_________________________________________________________________\n"
     ]
    }
   ],
   "source": [
    "model = load_model('../input/jsmp-dnn-training-keras/model.h5')\n",
    "model.summary()\n",
    "\n",
    "unpickle = open(\"../input/jsmp-dnn-training-keras/pcaFit.pkl\", 'rb')\n",
    "pca = pickle.load(unpickle)"
   ]
  },
  {
   "cell_type": "markdown",
   "metadata": {
    "papermill": {
     "duration": 0.007065,
     "end_time": "2020-12-04T13:15:25.227415",
     "exception": false,
     "start_time": "2020-12-04T13:15:25.220350",
     "status": "completed"
    },
    "tags": []
   },
   "source": [
    "## Submitting results"
   ]
  },
  {
   "cell_type": "code",
   "execution_count": 3,
   "metadata": {
    "execution": {
     "iopub.execute_input": "2020-12-04T13:15:25.249417Z",
     "iopub.status.busy": "2020-12-04T13:15:25.248473Z",
     "iopub.status.idle": "2020-12-04T13:20:15.696626Z",
     "shell.execute_reply": "2020-12-04T13:20:15.697530Z"
    },
    "papermill": {
     "duration": 290.463309,
     "end_time": "2020-12-04T13:20:15.697807",
     "exception": false,
     "start_time": "2020-12-04T13:15:25.234498",
     "status": "completed"
    },
    "tags": []
   },
   "outputs": [
    {
     "name": "stdout",
     "output_type": "stream",
     "text": [
      "CPU times: user 4min 49s, sys: 433 ms, total: 4min 49s\n",
      "Wall time: 4min 50s\n"
     ]
    }
   ],
   "source": [
    "%%time\n",
    "import janestreet\n",
    "env = janestreet.make_env()\n",
    "iter_test = env.iter_test()\n",
    "counter = 0\n",
    "for (test_df, sample_prediction_df) in iter_test:\n",
    "    counter += 1\n",
    "    test_df.fillna(0, inplace=True)\n",
    "    predPCA = pca.transform(test_df)\n",
    "    prediction = model(predPCA, training=False)\n",
    "    if prediction > 0.5:\n",
    "        predDf = 1\n",
    "    else:\n",
    "        predDf = 0\n",
    "    sample_prediction_df.action = predDf\n",
    "    env.predict(sample_prediction_df)"
   ]
  },
  {
   "cell_type": "code",
   "execution_count": 4,
   "metadata": {
    "execution": {
     "iopub.execute_input": "2020-12-04T13:20:15.720451Z",
     "iopub.status.busy": "2020-12-04T13:20:15.719303Z",
     "iopub.status.idle": "2020-12-04T13:20:15.723321Z",
     "shell.execute_reply": "2020-12-04T13:20:15.724237Z"
    },
    "papermill": {
     "duration": 0.017902,
     "end_time": "2020-12-04T13:20:15.724461",
     "exception": false,
     "start_time": "2020-12-04T13:20:15.706559",
     "status": "completed"
    },
    "tags": []
   },
   "outputs": [
    {
     "name": "stdout",
     "output_type": "stream",
     "text": [
      "Submission done!\n"
     ]
    }
   ],
   "source": [
    "print(\"Submission done!\")"
   ]
  }
 ],
 "metadata": {
  "kernelspec": {
   "display_name": "Python 3",
   "language": "python",
   "name": "python3"
  },
  "language_info": {
   "codemirror_mode": {
    "name": "ipython",
    "version": 3
   },
   "file_extension": ".py",
   "mimetype": "text/x-python",
   "name": "python",
   "nbconvert_exporter": "python",
   "pygments_lexer": "ipython3",
   "version": "3.7.6"
  },
  "papermill": {
   "duration": 305.734911,
   "end_time": "2020-12-04T13:20:15.845214",
   "environment_variables": {},
   "exception": null,
   "input_path": "__notebook__.ipynb",
   "output_path": "__notebook__.ipynb",
   "parameters": {},
   "start_time": "2020-12-04T13:15:10.110303",
   "version": "2.1.0"
  }
 },
 "nbformat": 4,
 "nbformat_minor": 4
}
