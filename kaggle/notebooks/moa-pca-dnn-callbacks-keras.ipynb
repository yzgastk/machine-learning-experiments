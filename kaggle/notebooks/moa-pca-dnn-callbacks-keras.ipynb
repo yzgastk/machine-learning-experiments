{
 "cells": [
  {
   "cell_type": "markdown",
   "metadata": {
    "papermill": {
     "duration": 0.016799,
     "end_time": "2020-11-27T13:39:00.495166",
     "exception": false,
     "start_time": "2020-11-27T13:39:00.478367",
     "status": "completed"
    },
    "tags": []
   },
   "source": [
    "# Augmented DNN\n",
    "\n",
    "This is a fork of my other notebook : [Can a simple DNN yield valuable results ?](https://www.kaggle.com/yzgast/minimal-dnn-keras)\n",
    "\n",
    "This is an attempt to see how much a simple deep neural network is able to perform. I also intend to use this kernel as the primay basic block and improve its future performances.\n"
   ]
  },
  {
   "cell_type": "code",
   "execution_count": 1,
   "metadata": {
    "_cell_guid": "b1076dfc-b9ad-4769-8c92-a6c4dae69d19",
    "_uuid": "8f2839f25d086af736a60e9eeb907d3b93b6e0e5",
    "execution": {
     "iopub.execute_input": "2020-11-27T13:39:00.531309Z",
     "iopub.status.busy": "2020-11-27T13:39:00.530531Z",
     "iopub.status.idle": "2020-11-27T13:39:07.532760Z",
     "shell.execute_reply": "2020-11-27T13:39:07.532056Z"
    },
    "papermill": {
     "duration": 7.023814,
     "end_time": "2020-11-27T13:39:07.532928",
     "exception": false,
     "start_time": "2020-11-27T13:39:00.509114",
     "status": "completed"
    },
    "tags": []
   },
   "outputs": [],
   "source": [
    "import numpy as np\n",
    "import pandas as pd\n",
    "\n",
    "from sklearn.decomposition import PCA\n",
    "from sklearn.model_selection import KFold\n",
    "from sklearn.preprocessing import MinMaxScaler\n",
    "\n",
    "from tensorflow import random\n",
    "from tensorflow.keras.models import Sequential\n",
    "from tensorflow.keras.layers import Dense, Dropout\n",
    "from tensorflow.keras.callbacks import ReduceLROnPlateau, EarlyStopping\n",
    "\n",
    "import matplotlib.pyplot as plt\n",
    "\n",
    "random.set_seed(5577)"
   ]
  },
  {
   "cell_type": "markdown",
   "metadata": {
    "papermill": {
     "duration": 0.01367,
     "end_time": "2020-11-27T13:39:07.560651",
     "exception": false,
     "start_time": "2020-11-27T13:39:07.546981",
     "status": "completed"
    },
    "tags": []
   },
   "source": [
    "## **Data Preparation**"
   ]
  },
  {
   "cell_type": "code",
   "execution_count": 2,
   "metadata": {
    "_cell_guid": "79c7e3d0-c299-4dcb-8224-4455121ee9b0",
    "_uuid": "d629ff2d2480ee46fbb7e2d37f6b5fab8052498a",
    "execution": {
     "iopub.execute_input": "2020-11-27T13:39:07.596973Z",
     "iopub.status.busy": "2020-11-27T13:39:07.595760Z",
     "iopub.status.idle": "2020-11-27T13:39:13.938966Z",
     "shell.execute_reply": "2020-11-27T13:39:13.938172Z"
    },
    "papermill": {
     "duration": 6.364664,
     "end_time": "2020-11-27T13:39:13.939094",
     "exception": false,
     "start_time": "2020-11-27T13:39:07.574430",
     "status": "completed"
    },
    "tags": []
   },
   "outputs": [],
   "source": [
    "trainFeatures        = pd.read_csv('/kaggle/input/lish-moa/train_features.csv')\n",
    "trainTargetScored    = pd.read_csv('/kaggle/input/lish-moa/train_targets_scored.csv')\n",
    "testFeatures         = pd.read_csv('/kaggle/input/lish-moa/test_features.csv')\n",
    "sampleSubmission     = pd.read_csv('/kaggle/input/lish-moa/sample_submission.csv')"
   ]
  },
  {
   "cell_type": "code",
   "execution_count": 3,
   "metadata": {
    "execution": {
     "iopub.execute_input": "2020-11-27T13:39:13.983096Z",
     "iopub.status.busy": "2020-11-27T13:39:13.982032Z",
     "iopub.status.idle": "2020-11-27T13:39:14.122632Z",
     "shell.execute_reply": "2020-11-27T13:39:14.122036Z"
    },
    "papermill": {
     "duration": 0.169569,
     "end_time": "2020-11-27T13:39:14.122762",
     "exception": false,
     "start_time": "2020-11-27T13:39:13.953193",
     "status": "completed"
    },
    "tags": []
   },
   "outputs": [
    {
     "name": "stdout",
     "output_type": "stream",
     "text": [
      "Features count = 875\n",
      "Targets count = 206\n"
     ]
    }
   ],
   "source": [
    "trainFeatures['cp_type'] = trainFeatures['cp_type'].map({'trt_cp':0, 'ctl_vehicle':1})\n",
    "trainFeatures['cp_dose'] = trainFeatures['cp_dose'].map({'D1':0, 'D2':1})\n",
    "trainFeatures = trainFeatures.drop(columns=\"sig_id\")\n",
    "trainTargetScored = trainTargetScored.drop(columns=\"sig_id\")\n",
    "\n",
    "testFeatures['cp_type'] = testFeatures['cp_type'].map({'trt_cp':0, 'ctl_vehicle':1})\n",
    "testFeatures['cp_dose'] = testFeatures['cp_dose'].map({'D1':0, 'D2':1})\n",
    "testFeatures = testFeatures.drop(columns=\"sig_id\")\n",
    "\n",
    "featuresCount = trainFeatures.shape[1]\n",
    "print(\"Features count = %d\" % featuresCount)\n",
    "\n",
    "targetsCols  = trainTargetScored.columns\n",
    "targetsCount = len(targetsCols)\n",
    "print(\"Targets count = %d\" % targetsCount)"
   ]
  },
  {
   "cell_type": "code",
   "execution_count": 4,
   "metadata": {
    "execution": {
     "iopub.execute_input": "2020-11-27T13:39:14.171342Z",
     "iopub.status.busy": "2020-11-27T13:39:14.170555Z",
     "iopub.status.idle": "2020-11-27T13:39:18.393453Z",
     "shell.execute_reply": "2020-11-27T13:39:18.394114Z"
    },
    "papermill": {
     "duration": 4.256895,
     "end_time": "2020-11-27T13:39:18.394300",
     "exception": false,
     "start_time": "2020-11-27T13:39:14.137405",
     "status": "completed"
    },
    "tags": []
   },
   "outputs": [
    {
     "name": "stdout",
     "output_type": "stream",
     "text": [
      "(23814, 310)\n",
      "(3982, 310)\n"
     ]
    }
   ],
   "source": [
    "scaler = MinMaxScaler()\n",
    "scaledTrain = scaler.fit_transform(trainFeatures)\n",
    "scaledTest = scaler.transform(testFeatures)\n",
    "\n",
    "pca = PCA(n_components=0.9)\n",
    "pca.fit(scaledTrain)\n",
    "\n",
    "sTrainFeatures = pca.transform(scaledTrain)\n",
    "sTestFeatures = pca.transform(scaledTest)\n",
    "print(sTrainFeatures.shape)\n",
    "print(sTestFeatures.shape)\n",
    "featuresCount = sTrainFeatures.shape[1]"
   ]
  },
  {
   "cell_type": "markdown",
   "metadata": {
    "papermill": {
     "duration": 0.015306,
     "end_time": "2020-11-27T13:39:18.427327",
     "exception": false,
     "start_time": "2020-11-27T13:39:18.412021",
     "status": "completed"
    },
    "tags": []
   },
   "source": [
    "## **Model Creation**"
   ]
  },
  {
   "cell_type": "code",
   "execution_count": 5,
   "metadata": {
    "execution": {
     "iopub.execute_input": "2020-11-27T13:39:18.468130Z",
     "iopub.status.busy": "2020-11-27T13:39:18.466027Z",
     "iopub.status.idle": "2020-11-27T13:39:18.471590Z",
     "shell.execute_reply": "2020-11-27T13:39:18.470868Z"
    },
    "papermill": {
     "duration": 0.029298,
     "end_time": "2020-11-27T13:39:18.471712",
     "exception": false,
     "start_time": "2020-11-27T13:39:18.442414",
     "status": "completed"
    },
    "tags": []
   },
   "outputs": [],
   "source": [
    "def getModel(hiddenLayerSize=1024, dropOut=0.25):\n",
    "\tmodel = Sequential()\n",
    "\tmodel.add(Dense(hiddenLayerSize, input_dim=featuresCount, activation='relu'))\n",
    "\tmodel.add(Dropout(dropOut))\n",
    "\tmodel.add(Dense(hiddenLayerSize,activation='relu'))\n",
    "\tmodel.add(Dropout(dropOut))\n",
    "\tmodel.add(Dense(hiddenLayerSize,activation='relu'))\n",
    "\tmodel.add(Dropout(dropOut)) \n",
    "\tmodel.add(Dense(targetsCount, activation=\"sigmoid\"))\n",
    "\tmodel.compile(loss='binary_crossentropy', optimizer='adam', metrics=[])\n",
    "\treturn model"
   ]
  },
  {
   "cell_type": "code",
   "execution_count": 6,
   "metadata": {
    "execution": {
     "iopub.execute_input": "2020-11-27T13:39:18.508604Z",
     "iopub.status.busy": "2020-11-27T13:39:18.507535Z",
     "iopub.status.idle": "2020-11-27T13:39:18.511083Z",
     "shell.execute_reply": "2020-11-27T13:39:18.510215Z"
    },
    "papermill": {
     "duration": 0.02441,
     "end_time": "2020-11-27T13:39:18.511229",
     "exception": false,
     "start_time": "2020-11-27T13:39:18.486819",
     "status": "completed"
    },
    "tags": []
   },
   "outputs": [],
   "source": [
    "reduce_lr = ReduceLROnPlateau(monitor='val_loss', patience=3, verbose=0)\n",
    "early_stop = EarlyStopping(monitor='val_loss', patience=6, restore_best_weights=True, verbose=0)"
   ]
  },
  {
   "cell_type": "markdown",
   "metadata": {
    "papermill": {
     "duration": 0.014914,
     "end_time": "2020-11-27T13:39:18.543481",
     "exception": false,
     "start_time": "2020-11-27T13:39:18.528567",
     "status": "completed"
    },
    "tags": []
   },
   "source": [
    "## **Hyperparameters**\n",
    "Hyperparameters were set by few trial and error testing.\n"
   ]
  },
  {
   "cell_type": "code",
   "execution_count": 7,
   "metadata": {
    "execution": {
     "iopub.execute_input": "2020-11-27T13:39:18.580150Z",
     "iopub.status.busy": "2020-11-27T13:39:18.579133Z",
     "iopub.status.idle": "2020-11-27T13:39:18.582822Z",
     "shell.execute_reply": "2020-11-27T13:39:18.582069Z"
    },
    "papermill": {
     "duration": 0.024062,
     "end_time": "2020-11-27T13:39:18.582954",
     "exception": false,
     "start_time": "2020-11-27T13:39:18.558892",
     "status": "completed"
    },
    "tags": []
   },
   "outputs": [],
   "source": [
    "nSplits = 13\n",
    "batchSize = 1000\n",
    "epochCount = 64\n",
    "hiddenLayerSize = 1024\n",
    "dropOut = 0.3"
   ]
  },
  {
   "cell_type": "markdown",
   "metadata": {
    "papermill": {
     "duration": 0.015342,
     "end_time": "2020-11-27T13:39:18.613555",
     "exception": false,
     "start_time": "2020-11-27T13:39:18.598213",
     "status": "completed"
    },
    "tags": []
   },
   "source": [
    "## **Fitting the model**\n"
   ]
  },
  {
   "cell_type": "code",
   "execution_count": 8,
   "metadata": {
    "execution": {
     "iopub.execute_input": "2020-11-27T13:39:18.656641Z",
     "iopub.status.busy": "2020-11-27T13:39:18.655697Z",
     "iopub.status.idle": "2020-11-27T14:12:38.483714Z",
     "shell.execute_reply": "2020-11-27T14:12:38.484574Z"
    },
    "papermill": {
     "duration": 1999.856174,
     "end_time": "2020-11-27T14:12:38.484805",
     "exception": false,
     "start_time": "2020-11-27T13:39:18.628631",
     "status": "completed"
    },
    "tags": []
   },
   "outputs": [
    {
     "name": "stdout",
     "output_type": "stream",
     "text": [
      "Fold 0: loss of 0.015748\n",
      "Fold 1: loss of 0.015706\n",
      "Fold 2: loss of 0.015219\n",
      "Fold 3: loss of 0.015341\n",
      "Fold 4: loss of 0.015722\n",
      "Fold 5: loss of 0.016065\n",
      "Fold 6: loss of 0.015574\n",
      "Fold 7: loss of 0.015634\n",
      "Fold 8: loss of 0.015837\n",
      "Fold 9: loss of 0.015201\n",
      "Fold 10: loss of 0.015182\n",
      "Fold 11: loss of 0.016175\n",
      "Fold 12: loss of 0.016241\n",
      "[0.015749188140034676, 0.015706254169344902, 0.015219236724078655, 0.015340529382228851, 0.01572927087545395, 0.016064947471022606, 0.015576118603348732, 0.015639591962099075, 0.015837037935853004, 0.01520153321325779, 0.015184461139142513, 0.016176166012883186, 0.01625008136034012]\n"
     ]
    }
   ],
   "source": [
    "models = []\n",
    "losses = []\n",
    "history = {}\n",
    "verbosity = 0\n",
    "\n",
    "kfold = KFold(n_splits=nSplits, shuffle=True)\n",
    "for j, (train_idx, val_idx) in enumerate(kfold.split(sTrainFeatures)):\n",
    "\tmodel = getModel(hiddenLayerSize, dropOut)\n",
    "\thistory[j] = model.fit(sTrainFeatures[train_idx], trainTargetScored.values[train_idx], validation_data=(sTrainFeatures[val_idx], trainTargetScored.values[val_idx]), callbacks=[reduce_lr, early_stop], batch_size=batchSize, epochs=epochCount, verbose=verbosity)\n",
    "\tscores = model.evaluate(sTrainFeatures[val_idx], trainTargetScored.values[val_idx], verbose=verbosity)\n",
    "\tprint('Fold %d: %s of %.6f' % (j,model.metrics_names[0],scores))\n",
    "\tlosses.append(history[j].history[\"val_loss\"][-1])\n",
    "\tmodels.append(model)\n",
    "\n",
    "print(losses)"
   ]
  },
  {
   "cell_type": "markdown",
   "metadata": {
    "papermill": {
     "duration": 0.027093,
     "end_time": "2020-11-27T14:12:38.536827",
     "exception": false,
     "start_time": "2020-11-27T14:12:38.509734",
     "status": "completed"
    },
    "tags": []
   },
   "source": [
    "## **Plotting the loss & validation loss**"
   ]
  },
  {
   "cell_type": "code",
   "execution_count": 9,
   "metadata": {
    "execution": {
     "iopub.execute_input": "2020-11-27T14:12:38.590675Z",
     "iopub.status.busy": "2020-11-27T14:12:38.589759Z",
     "iopub.status.idle": "2020-11-27T14:12:39.009174Z",
     "shell.execute_reply": "2020-11-27T14:12:39.009755Z"
    },
    "papermill": {
     "duration": 0.451838,
     "end_time": "2020-11-27T14:12:39.009931",
     "exception": false,
     "start_time": "2020-11-27T14:12:38.558093",
     "status": "completed"
    },
    "tags": []
   },
   "outputs": [
    {
     "data": {
      "image/png": "[encoded data removed]",
      "text/plain": [
       "<Figure size 1080x504 with 1 Axes>"
      ]
     },
     "metadata": {
      "needs_background": "light"
     },
     "output_type": "display_data"
    }
   ],
   "source": [
    "plt.figure(figsize=(15,7))\n",
    "for k,v in history.items():\n",
    "\tplt.plot(v.history[\"loss\"], color='#bc3c1c', label=\"Loss Fold \"+str(k))\n",
    "\tplt.plot(v.history[\"val_loss\"], color='#578e1f', label=\"ValLoss Fold \"+str(k))\n",
    "\n",
    "plt.xlabel('Epochs')\n",
    "plt.ylabel('Error')\n",
    "plt.title('Folds Error Compound')\n",
    "plt.legend()\n",
    "plt.show()"
   ]
  },
  {
   "cell_type": "markdown",
   "metadata": {
    "papermill": {
     "duration": 0.022202,
     "end_time": "2020-11-27T14:12:39.054546",
     "exception": false,
     "start_time": "2020-11-27T14:12:39.032344",
     "status": "completed"
    },
    "tags": []
   },
   "source": [
    "## **Making the prediction & submitting results**"
   ]
  },
  {
   "cell_type": "code",
   "execution_count": 10,
   "metadata": {
    "execution": {
     "iopub.execute_input": "2020-11-27T14:12:39.107327Z",
     "iopub.status.busy": "2020-11-27T14:12:39.106523Z",
     "iopub.status.idle": "2020-11-27T14:12:49.788276Z",
     "shell.execute_reply": "2020-11-27T14:12:49.787511Z"
    },
    "papermill": {
     "duration": 10.710937,
     "end_time": "2020-11-27T14:12:49.788416",
     "exception": false,
     "start_time": "2020-11-27T14:12:39.077479",
     "status": "completed"
    },
    "tags": []
   },
   "outputs": [],
   "source": [
    "predictions = sampleSubmission.copy()\n",
    "predictions[targetsCols] = 0\n",
    "for model in models:\n",
    "    predictions.loc[:,targetsCols] += model.predict(sTestFeatures)\n",
    "predictions.loc[:,targetsCols] /= len(models)\n",
    "predictions.to_csv('submission.csv', index=False)"
   ]
  }
 ],
 "metadata": {
  "kernelspec": {
   "display_name": "Python 3",
   "language": "python",
   "name": "python3"
  },
  "language_info": {
   "codemirror_mode": {
    "name": "ipython",
    "version": 3
   },
   "file_extension": ".py",
   "mimetype": "text/x-python",
   "name": "python",
   "nbconvert_exporter": "python",
   "pygments_lexer": "ipython3",
   "version": "3.7.6"
  },
  "papermill": {
   "duration": 2034.210222,
   "end_time": "2020-11-27T14:12:49.919108",
   "environment_variables": {},
   "exception": null,
   "input_path": "__notebook__.ipynb",
   "output_path": "__notebook__.ipynb",
   "parameters": {},
   "start_time": "2020-11-27T13:38:55.708886",
   "version": "2.1.0"
  }
 },
 "nbformat": 4,
 "nbformat_minor": 4
}
