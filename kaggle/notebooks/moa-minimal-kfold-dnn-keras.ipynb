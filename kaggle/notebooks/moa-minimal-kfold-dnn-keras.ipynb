{
 "cells": [
  {
   "cell_type": "markdown",
   "metadata": {
    "papermill": {
     "duration": 0.015911,
     "end_time": "2020-11-27T10:07:08.119821",
     "exception": false,
     "start_time": "2020-11-27T10:07:08.103910",
     "status": "completed"
    },
    "tags": []
   },
   "source": [
    "# Can a simple DNN yield valuable results ?\n",
    "\n",
    "This is an attempt to see how much a simple deep neural network is able to perform. I also intend to use this kernel as the primay basic block and improve its future performances.\n"
   ]
  },
  {
   "cell_type": "code",
   "execution_count": 1,
   "metadata": {
    "_cell_guid": "b1076dfc-b9ad-4769-8c92-a6c4dae69d19",
    "_uuid": "8f2839f25d086af736a60e9eeb907d3b93b6e0e5",
    "execution": {
     "iopub.execute_input": "2020-11-27T10:07:08.154473Z",
     "iopub.status.busy": "2020-11-27T10:07:08.153517Z",
     "iopub.status.idle": "2020-11-27T10:07:17.140281Z",
     "shell.execute_reply": "2020-11-27T10:07:17.141150Z"
    },
    "papermill": {
     "duration": 9.00814,
     "end_time": "2020-11-27T10:07:17.141372",
     "exception": false,
     "start_time": "2020-11-27T10:07:08.133232",
     "status": "completed"
    },
    "tags": []
   },
   "outputs": [],
   "source": [
    "import pandas as pd\n",
    "\n",
    "from sklearn.model_selection import KFold\n",
    "\n",
    "from tensorflow import random\n",
    "from tensorflow.keras.models import Sequential\n",
    "from tensorflow.keras.layers import Dense, Dropout\n",
    "\n",
    "import matplotlib.pyplot as plt\n",
    "\n",
    "random.set_seed(5577)"
   ]
  },
  {
   "cell_type": "markdown",
   "metadata": {
    "papermill": {
     "duration": 0.012254,
     "end_time": "2020-11-27T10:07:17.166449",
     "exception": false,
     "start_time": "2020-11-27T10:07:17.154195",
     "status": "completed"
    },
    "tags": []
   },
   "source": [
    "## **Data Preparation**"
   ]
  },
  {
   "cell_type": "code",
   "execution_count": 2,
   "metadata": {
    "_cell_guid": "79c7e3d0-c299-4dcb-8224-4455121ee9b0",
    "_uuid": "d629ff2d2480ee46fbb7e2d37f6b5fab8052498a",
    "execution": {
     "iopub.execute_input": "2020-11-27T10:07:17.199699Z",
     "iopub.status.busy": "2020-11-27T10:07:17.198545Z",
     "iopub.status.idle": "2020-11-27T10:07:23.904341Z",
     "shell.execute_reply": "2020-11-27T10:07:23.905085Z"
    },
    "papermill": {
     "duration": 6.726305,
     "end_time": "2020-11-27T10:07:23.905280",
     "exception": false,
     "start_time": "2020-11-27T10:07:17.178975",
     "status": "completed"
    },
    "tags": []
   },
   "outputs": [],
   "source": [
    "trainFeatures        = pd.read_csv('/kaggle/input/lish-moa/train_features.csv')\n",
    "trainTargetScored    = pd.read_csv('/kaggle/input/lish-moa/train_targets_scored.csv')\n",
    "testFeatures         = pd.read_csv('/kaggle/input/lish-moa/test_features.csv')\n",
    "sampleSubmission     = pd.read_csv('/kaggle/input/lish-moa/sample_submission.csv')"
   ]
  },
  {
   "cell_type": "code",
   "execution_count": 3,
   "metadata": {
    "execution": {
     "iopub.execute_input": "2020-11-27T10:07:23.947954Z",
     "iopub.status.busy": "2020-11-27T10:07:23.940227Z",
     "iopub.status.idle": "2020-11-27T10:07:24.108083Z",
     "shell.execute_reply": "2020-11-27T10:07:24.107272Z"
    },
    "papermill": {
     "duration": 0.189603,
     "end_time": "2020-11-27T10:07:24.108231",
     "exception": false,
     "start_time": "2020-11-27T10:07:23.918628",
     "status": "completed"
    },
    "tags": []
   },
   "outputs": [
    {
     "name": "stdout",
     "output_type": "stream",
     "text": [
      "Features count = 875\n",
      "Targets count = 206\n"
     ]
    }
   ],
   "source": [
    "trainFeatures['cp_type'] = trainFeatures['cp_type'].map({'trt_cp':0, 'ctl_vehicle':1})\n",
    "trainFeatures['cp_dose'] = trainFeatures['cp_dose'].map({'D1':0, 'D2':1})\n",
    "trainFeatures = trainFeatures.drop(columns=\"sig_id\")\n",
    "trainTargetScored = trainTargetScored.drop(columns=\"sig_id\")\n",
    "\n",
    "testFeatures['cp_type'] = testFeatures['cp_type'].map({'trt_cp':0, 'ctl_vehicle':1})\n",
    "testFeatures['cp_dose'] = testFeatures['cp_dose'].map({'D1':0, 'D2':1})\n",
    "testFeatures = testFeatures.drop(columns=\"sig_id\")\n",
    "\n",
    "featuresCount = trainFeatures.shape[1]\n",
    "print(\"Features count = %d\" % featuresCount)\n",
    "\n",
    "targetsCols  = trainTargetScored.columns\n",
    "targetsCount = len(targetsCols)\n",
    "print(\"Targets count = %d\" % targetsCount)"
   ]
  },
  {
   "cell_type": "markdown",
   "metadata": {
    "papermill": {
     "duration": 0.013254,
     "end_time": "2020-11-27T10:07:24.135284",
     "exception": false,
     "start_time": "2020-11-27T10:07:24.122030",
     "status": "completed"
    },
    "tags": []
   },
   "source": [
    "## **Model Creation**"
   ]
  },
  {
   "cell_type": "code",
   "execution_count": 4,
   "metadata": {
    "execution": {
     "iopub.execute_input": "2020-11-27T10:07:24.172487Z",
     "iopub.status.busy": "2020-11-27T10:07:24.171618Z",
     "iopub.status.idle": "2020-11-27T10:07:24.174940Z",
     "shell.execute_reply": "2020-11-27T10:07:24.175586Z"
    },
    "papermill": {
     "duration": 0.027431,
     "end_time": "2020-11-27T10:07:24.175755",
     "exception": false,
     "start_time": "2020-11-27T10:07:24.148324",
     "status": "completed"
    },
    "tags": []
   },
   "outputs": [],
   "source": [
    "def getModel(hiddenLayerSize=1024, dropOut=0.2):\n",
    "\tmodel = Sequential()\n",
    "\tmodel.add(Dense(hiddenLayerSize, input_dim=featuresCount, activation='relu'))\n",
    "\tmodel.add(Dropout(dropOut))\n",
    "\tmodel.add(Dense(hiddenLayerSize,activation='relu'))\n",
    "\tmodel.add(Dropout(dropOut))\n",
    "\tmodel.add(Dense(hiddenLayerSize,activation='relu'))\n",
    "\tmodel.add(Dropout(dropOut)) \n",
    "\tmodel.add(Dense(targetsCount, activation=\"sigmoid\"))\n",
    "\tmodel.compile(loss='binary_crossentropy', optimizer='adam', metrics=[])\n",
    "\treturn model"
   ]
  },
  {
   "cell_type": "markdown",
   "metadata": {
    "papermill": {
     "duration": 0.014183,
     "end_time": "2020-11-27T10:07:24.203572",
     "exception": false,
     "start_time": "2020-11-27T10:07:24.189389",
     "status": "completed"
    },
    "tags": []
   },
   "source": [
    "## **Hyperparameters**\n",
    "Hyperparameters were set by few trial and error testing.\n"
   ]
  },
  {
   "cell_type": "code",
   "execution_count": 5,
   "metadata": {
    "execution": {
     "iopub.execute_input": "2020-11-27T10:07:24.236384Z",
     "iopub.status.busy": "2020-11-27T10:07:24.235375Z",
     "iopub.status.idle": "2020-11-27T10:07:24.239013Z",
     "shell.execute_reply": "2020-11-27T10:07:24.238205Z"
    },
    "papermill": {
     "duration": 0.022382,
     "end_time": "2020-11-27T10:07:24.239142",
     "exception": false,
     "start_time": "2020-11-27T10:07:24.216760",
     "status": "completed"
    },
    "tags": []
   },
   "outputs": [],
   "source": [
    "nSplits = 13\n",
    "batchSize = 1000\n",
    "epochCount = 12\n",
    "hiddenLayerSize = 1024\n",
    "dropOut = 0.2"
   ]
  },
  {
   "cell_type": "markdown",
   "metadata": {
    "papermill": {
     "duration": 0.012682,
     "end_time": "2020-11-27T10:07:24.265019",
     "exception": false,
     "start_time": "2020-11-27T10:07:24.252337",
     "status": "completed"
    },
    "tags": []
   },
   "source": [
    "## **Fitting the model**\n"
   ]
  },
  {
   "cell_type": "code",
   "execution_count": 6,
   "metadata": {
    "execution": {
     "iopub.execute_input": "2020-11-27T10:07:24.304735Z",
     "iopub.status.busy": "2020-11-27T10:07:24.303732Z",
     "iopub.status.idle": "2020-11-27T10:16:25.757473Z",
     "shell.execute_reply": "2020-11-27T10:16:25.758453Z"
    },
    "papermill": {
     "duration": 541.480713,
     "end_time": "2020-11-27T10:16:25.758703",
     "exception": false,
     "start_time": "2020-11-27T10:07:24.277990",
     "status": "completed"
    },
    "tags": []
   },
   "outputs": [
    {
     "name": "stdout",
     "output_type": "stream",
     "text": [
      "Fold 0: loss of 0.015153\n",
      "Fold 1: loss of 0.015575\n",
      "Fold 2: loss of 0.015571\n",
      "Fold 3: loss of 0.015378\n",
      "Fold 4: loss of 0.016388\n",
      "Fold 5: loss of 0.015881\n",
      "Fold 6: loss of 0.015781\n",
      "Fold 7: loss of 0.016387\n",
      "Fold 8: loss of 0.015488\n",
      "Fold 9: loss of 0.016342\n",
      "Fold 10: loss of 0.016165\n",
      "Fold 11: loss of 0.016408\n",
      "Fold 12: loss of 0.015932\n",
      "[0.01515304483473301, 0.015575396828353405, 0.015570802614092827, 0.015378114767372608, 0.016387883573770523, 0.0158807672560215, 0.01578095555305481, 0.016387440264225006, 0.015488257631659508, 0.016342293471097946, 0.016164835542440414, 0.01640787534415722, 0.015932220965623856]\n"
     ]
    }
   ],
   "source": [
    "models = []\n",
    "losses = []\n",
    "history = {}\n",
    "verbosity = 0\n",
    "\n",
    "kfold = KFold(n_splits=nSplits, shuffle=True)\n",
    "for j, (train_idx, val_idx) in enumerate(kfold.split(trainFeatures)):\n",
    "\tmodel = getModel(hiddenLayerSize, dropOut)\n",
    "\thistory[j] = model.fit(trainFeatures.values[train_idx], trainTargetScored.values[train_idx], validation_data=(trainFeatures.values[val_idx], trainTargetScored.values[val_idx]), batch_size=batchSize, epochs=epochCount, verbose=verbosity)\n",
    "\tscores = model.evaluate(trainFeatures.values[val_idx], trainTargetScored.values[val_idx], verbose=verbosity)\n",
    "\tlosses.append(history[j].history[\"val_loss\"][-1])\n",
    "\tprint('Fold %d: %s of %.6f' % (j,model.metrics_names[0],scores))\n",
    "\tmodels.append(model)\n",
    "print(losses)"
   ]
  },
  {
   "cell_type": "markdown",
   "metadata": {
    "papermill": {
     "duration": 0.02028,
     "end_time": "2020-11-27T10:16:25.800188",
     "exception": false,
     "start_time": "2020-11-27T10:16:25.779908",
     "status": "completed"
    },
    "tags": []
   },
   "source": [
    "## **Plotting the loss & validation loss**"
   ]
  },
  {
   "cell_type": "code",
   "execution_count": 7,
   "metadata": {
    "execution": {
     "iopub.execute_input": "2020-11-27T10:16:25.846716Z",
     "iopub.status.busy": "2020-11-27T10:16:25.845900Z",
     "iopub.status.idle": "2020-11-27T10:16:26.382905Z",
     "shell.execute_reply": "2020-11-27T10:16:26.383574Z"
    },
    "papermill": {
     "duration": 0.565119,
     "end_time": "2020-11-27T10:16:26.383757",
     "exception": false,
     "start_time": "2020-11-27T10:16:25.818638",
     "status": "completed"
    },
    "tags": []
   },
   "outputs": [
    {
     "data": {
      "image/png": "[encoded data removed]",
      "text/plain": [
       "<Figure size 1080x504 with 1 Axes>"
      ]
     },
     "metadata": {
      "needs_background": "light"
     },
     "output_type": "display_data"
    }
   ],
   "source": [
    "plt.figure(figsize=(15,7))\n",
    "for k,v in history.items():\n",
    "\tplt.plot(v.history[\"loss\"], color='#d13812', label=\"Loss Fold \"+str(k))\n",
    "\tplt.plot(v.history[\"val_loss\"], color='#6dbc1e', label=\"ValLoss Fold \"+str(k))\n",
    "\n",
    "plt.xlabel('Epochs')\n",
    "plt.ylabel('Error')\n",
    "plt.title('Folds Error Compound')\n",
    "plt.legend()\n",
    "plt.show()"
   ]
  },
  {
   "cell_type": "markdown",
   "metadata": {
    "papermill": {
     "duration": 0.022479,
     "end_time": "2020-11-27T10:16:26.427201",
     "exception": false,
     "start_time": "2020-11-27T10:16:26.404722",
     "status": "completed"
    },
    "tags": []
   },
   "source": [
    "## **Making the prediction & submitting results**"
   ]
  },
  {
   "cell_type": "code",
   "execution_count": 8,
   "metadata": {
    "execution": {
     "iopub.execute_input": "2020-11-27T10:16:26.477595Z",
     "iopub.status.busy": "2020-11-27T10:16:26.476756Z",
     "iopub.status.idle": "2020-11-27T10:16:39.807025Z",
     "shell.execute_reply": "2020-11-27T10:16:39.806188Z"
    },
    "papermill": {
     "duration": 13.358865,
     "end_time": "2020-11-27T10:16:39.807163",
     "exception": false,
     "start_time": "2020-11-27T10:16:26.448298",
     "status": "completed"
    },
    "tags": []
   },
   "outputs": [],
   "source": [
    "predictions = sampleSubmission.copy()\n",
    "predictions[targetsCols] = 0\n",
    "for model in models:\n",
    "    predictions.loc[:,targetsCols] += model.predict(testFeatures)\n",
    "predictions.loc[:,targetsCols] /= len(models)\n",
    "predictions.to_csv('submission.csv', index=False)"
   ]
  }
 ],
 "metadata": {
  "kernelspec": {
   "display_name": "Python 3",
   "language": "python",
   "name": "python3"
  },
  "language_info": {
   "codemirror_mode": {
    "name": "ipython",
    "version": 3
   },
   "file_extension": ".py",
   "mimetype": "text/x-python",
   "name": "python",
   "nbconvert_exporter": "python",
   "pygments_lexer": "ipython3",
   "version": "3.7.6"
  },
  "papermill": {
   "duration": 577.724123,
   "end_time": "2020-11-27T10:16:39.937108",
   "environment_variables": {},
   "exception": null,
   "input_path": "__notebook__.ipynb",
   "output_path": "__notebook__.ipynb",
   "parameters": {},
   "start_time": "2020-11-27T10:07:02.212985",
   "version": "2.1.0"
  }
 },
 "nbformat": 4,
 "nbformat_minor": 4
}
