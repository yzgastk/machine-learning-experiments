{
 "cells": [
  {
   "cell_type": "markdown",
   "metadata": {
    "papermill": {
     "duration": 0.01341,
     "end_time": "2020-11-05T10:10:44.591676",
     "exception": false,
     "start_time": "2020-11-05T10:10:44.578266",
     "status": "completed"
    },
    "tags": []
   },
   "source": [
    "# **Convolutional Neural Network for Market Forecasting**\n",
    "\n",
    "One of class of algorithm that is not proposed yet is Convolutional Neural Networks. I came across [this paper](https://iopscience.iop.org/article/10.1088/1757-899X/435/1/012026/pdf) by Chen & al. and decided to give it a try. They use 1D CNN to forecast Chinese stock market from 05/25/2017 to 12/29/2017 with an accuracy close to 74%. I tried to extract their model architecture and hyperparemeters as accurately as possible and reproduced the network using sklearn and keras."
   ]
  },
  {
   "cell_type": "code",
   "execution_count": 1,
   "metadata": {
    "_cell_guid": "b1076dfc-b9ad-4769-8c92-a6c4dae69d19",
    "_uuid": "8f2839f25d086af736a60e9eeb907d3b93b6e0e5",
    "execution": {
     "iopub.execute_input": "2020-11-05T10:10:44.628141Z",
     "iopub.status.busy": "2020-11-05T10:10:44.627257Z",
     "iopub.status.idle": "2020-11-05T10:10:52.249914Z",
     "shell.execute_reply": "2020-11-05T10:10:52.249152Z"
    },
    "papermill": {
     "duration": 7.646518,
     "end_time": "2020-11-05T10:10:52.250050",
     "exception": false,
     "start_time": "2020-11-05T10:10:44.603532",
     "status": "completed"
    },
    "tags": []
   },
   "outputs": [],
   "source": [
    "# IMPORTS\n",
    "import numpy as np\n",
    "import pandas as pd\n",
    "\n",
    "import matplotlib.pyplot as plt\n",
    "%matplotlib inline\n",
    "\n",
    "from sklearn.preprocessing import MinMaxScaler\n",
    "from sklearn.metrics import accuracy_score, precision_score, recall_score, f1_score, confusion_matrix\n",
    "\n",
    "from keras.models import Sequential\n",
    "from keras.layers import Dense, Conv1D, Flatten, MaxPooling1D, Dropout, LeakyReLU"
   ]
  },
  {
   "cell_type": "markdown",
   "metadata": {
    "papermill": {
     "duration": 0.011588,
     "end_time": "2020-11-05T10:10:52.273494",
     "exception": false,
     "start_time": "2020-11-05T10:10:52.261906",
     "status": "completed"
    },
    "tags": []
   },
   "source": [
    "## Data shaping & data management"
   ]
  },
  {
   "cell_type": "code",
   "execution_count": 2,
   "metadata": {
    "execution": {
     "iopub.execute_input": "2020-11-05T10:10:52.308393Z",
     "iopub.status.busy": "2020-11-05T10:10:52.307625Z",
     "iopub.status.idle": "2020-11-05T10:10:52.359154Z",
     "shell.execute_reply": "2020-11-05T10:10:52.360162Z"
    },
    "papermill": {
     "duration": 0.073467,
     "end_time": "2020-11-05T10:10:52.360369",
     "exception": false,
     "start_time": "2020-11-05T10:10:52.286902",
     "status": "completed"
    },
    "tags": []
   },
   "outputs": [
    {
     "name": "stdout",
     "output_type": "stream",
     "text": [
      "<class 'pandas.core.frame.DataFrame'>\n",
      "RangeIndex: 9547 entries, 0 to 9546\n",
      "Data columns (total 7 columns):\n",
      " #   Column   Non-Null Count  Dtype  \n",
      "---  ------   --------------  -----  \n",
      " 0   Date     9547 non-null   object \n",
      " 1   Open     9547 non-null   float64\n",
      " 2   High     9547 non-null   float64\n",
      " 3   Low      9547 non-null   float64\n",
      " 4   Close    9547 non-null   float64\n",
      " 5   Volume   9547 non-null   int64  \n",
      " 6   OpenInt  9547 non-null   int64  \n",
      "dtypes: float64(4), int64(2), object(1)\n",
      "memory usage: 522.2+ KB\n",
      "None\n"
     ]
    }
   ],
   "source": [
    "# Load information about the stock\n",
    "stonks = 'fdx.us.txt'\n",
    "df = pd.read_csv('/kaggle/input/price-volume-data-for-all-us-stocks-etfs/Stocks/'+stonks)\n",
    "print(df.info())"
   ]
  },
  {
   "cell_type": "code",
   "execution_count": 3,
   "metadata": {
    "execution": {
     "iopub.execute_input": "2020-11-05T10:10:52.397371Z",
     "iopub.status.busy": "2020-11-05T10:10:52.396557Z",
     "iopub.status.idle": "2020-11-05T10:10:52.436167Z",
     "shell.execute_reply": "2020-11-05T10:10:52.436757Z"
    },
    "papermill": {
     "duration": 0.061814,
     "end_time": "2020-11-05T10:10:52.436967",
     "exception": false,
     "start_time": "2020-11-05T10:10:52.375153",
     "status": "completed"
    },
    "tags": []
   },
   "outputs": [
    {
     "name": "stdout",
     "output_type": "stream",
     "text": [
      "     Open    High     Low   Close   Volume  label\n",
      "0  2.6409  2.7745  2.6409  2.6791   414703      1\n",
      "1  2.6791  2.7367  2.6025  2.7367  1078568      1\n",
      "2  2.7465  2.9375  2.7465  2.9086  1008335      1\n",
      "3  2.9185  2.9659  2.9185  2.9375   449822      1\n",
      "4  2.9375  3.0428  2.9185  3.0428   613695      1\n"
     ]
    }
   ],
   "source": [
    "# Compute labels automatically based on the method given in the paper\n",
    "# If value is greater 10 day ahead then label current day \"buy (1)\" otherwise \"sell (0)\"\n",
    "df['Open10'] = df['Open'].shift(periods=-10)\n",
    "df = df.dropna()\n",
    "df['label'] = np.where(df['Open'] < df['Open10'], 1, 0)\n",
    "\n",
    "\n",
    "# Drop useless columns, keeping only OHLCV\n",
    "dropCols= ['Date', 'OpenInt', 'Open10'] # 'Open', 'High', 'Low', 'Close', 'Volume'\n",
    "df = df.drop(labels=dropCols, axis=1)\n",
    "print(df.head())"
   ]
  },
  {
   "cell_type": "code",
   "execution_count": 4,
   "metadata": {
    "execution": {
     "iopub.execute_input": "2020-11-05T10:10:52.480153Z",
     "iopub.status.busy": "2020-11-05T10:10:52.479260Z",
     "iopub.status.idle": "2020-11-05T10:10:52.768728Z",
     "shell.execute_reply": "2020-11-05T10:10:52.767976Z"
    },
    "papermill": {
     "duration": 0.318083,
     "end_time": "2020-11-05T10:10:52.768894",
     "exception": false,
     "start_time": "2020-11-05T10:10:52.450811",
     "status": "completed"
    },
    "tags": []
   },
   "outputs": [
    {
     "data": {
      "image/png": "[encoded data removed]",
      "text/plain": [
       "<Figure size 432x288 with 1 Axes>"
      ]
     },
     "metadata": {
      "needs_background": "light"
     },
     "output_type": "display_data"
    }
   ],
   "source": [
    "# Computing split index\n",
    "x, _ = df.shape\n",
    "splitCoeff = 0.80\n",
    "splitRow = int(x * splitCoeff)\n",
    "dfNum = df.to_numpy()\n",
    "\n",
    "# Separating training data from testing data\n",
    "trainX = dfNum[:splitRow, :-1]\n",
    "trainY = dfNum[:splitRow, -1]\n",
    "testX = dfNum[splitRow:, :-1]\n",
    "testY = dfNum[splitRow:, -1]\n",
    "\n",
    "# Showing price figure for 'open' prices\n",
    "xPlot = range(0, x)\n",
    "plt.figure()\n",
    "plt.title('Data Separation')\n",
    "plt.grid(True)\n",
    "plt.ylabel('Open Price')\n",
    "plt.plot(xPlot[:splitRow], trainX[:,0], 'blue', label='Train data')\n",
    "plt.plot(xPlot[splitRow:], testX[:,0], 'red', label='Test data')\n",
    "plt.legend()\n",
    "plt.show()\n",
    "plt.close()"
   ]
  },
  {
   "cell_type": "code",
   "execution_count": 5,
   "metadata": {
    "execution": {
     "iopub.execute_input": "2020-11-05T10:10:52.806011Z",
     "iopub.status.busy": "2020-11-05T10:10:52.804955Z",
     "iopub.status.idle": "2020-11-05T10:10:52.809903Z",
     "shell.execute_reply": "2020-11-05T10:10:52.809151Z"
    },
    "papermill": {
     "duration": 0.027157,
     "end_time": "2020-11-05T10:10:52.810031",
     "exception": false,
     "start_time": "2020-11-05T10:10:52.782874",
     "status": "completed"
    },
    "tags": []
   },
   "outputs": [],
   "source": [
    "# Input normalization\n",
    "norm = MinMaxScaler()\n",
    "trainX = norm.fit_transform(trainX)\n",
    "\n",
    "# Reshaping data to get a 3D tensor for Conv1D\n",
    "trainX = trainX.reshape(trainX.shape[0], trainX.shape[1], 1)\n",
    "testX = testX.reshape(testX.shape[0], testX.shape[1], 1)\n",
    "\n",
    "# Parameters\n",
    "nFeatures = trainX.shape[1]\n",
    "epochs = 20\n",
    "batchSize = 1000\n",
    "nOutput = 1\n",
    "kernelSize = 1"
   ]
  },
  {
   "cell_type": "markdown",
   "metadata": {
    "papermill": {
     "duration": 0.013717,
     "end_time": "2020-11-05T10:10:52.837932",
     "exception": false,
     "start_time": "2020-11-05T10:10:52.824215",
     "status": "completed"
    },
    "tags": []
   },
   "source": [
    "## Building the network"
   ]
  },
  {
   "cell_type": "code",
   "execution_count": 6,
   "metadata": {
    "execution": {
     "iopub.execute_input": "2020-11-05T10:10:52.880288Z",
     "iopub.status.busy": "2020-11-05T10:10:52.879480Z",
     "iopub.status.idle": "2020-11-05T10:10:59.270320Z",
     "shell.execute_reply": "2020-11-05T10:10:59.271228Z"
    },
    "papermill": {
     "duration": 6.419572,
     "end_time": "2020-11-05T10:10:59.271449",
     "exception": false,
     "start_time": "2020-11-05T10:10:52.851877",
     "status": "completed"
    },
    "tags": []
   },
   "outputs": [
    {
     "name": "stdout",
     "output_type": "stream",
     "text": [
      "Model: \"sequential\"\n",
      "_________________________________________________________________\n",
      "Layer (type)                 Output Shape              Param #   \n",
      "=================================================================\n",
      "conv1d (Conv1D)              (None, 5, 32)             64        \n",
      "_________________________________________________________________\n",
      "conv1d_1 (Conv1D)            (None, 5, 64)             2112      \n",
      "_________________________________________________________________\n",
      "leaky_re_lu (LeakyReLU)      (None, 5, 64)             0         \n",
      "_________________________________________________________________\n",
      "max_pooling1d (MaxPooling1D) (None, 5, 64)             0         \n",
      "_________________________________________________________________\n",
      "conv1d_2 (Conv1D)            (None, 5, 128)            8320      \n",
      "_________________________________________________________________\n",
      "leaky_re_lu_1 (LeakyReLU)    (None, 5, 128)            0         \n",
      "_________________________________________________________________\n",
      "flatten (Flatten)            (None, 640)               0         \n",
      "_________________________________________________________________\n",
      "dense (Dense)                (None, 256)               164096    \n",
      "_________________________________________________________________\n",
      "leaky_re_lu_2 (LeakyReLU)    (None, 256)               0         \n",
      "_________________________________________________________________\n",
      "dropout (Dropout)            (None, 256)               0         \n",
      "_________________________________________________________________\n",
      "dense_1 (Dense)              (None, 1)                 257       \n",
      "=================================================================\n",
      "Total params: 174,849\n",
      "Trainable params: 174,849\n",
      "Non-trainable params: 0\n",
      "_________________________________________________________________\n",
      "Epoch 1/20\n",
      "8/8 [==============================] - 0s 56ms/step - loss: 0.6926 - accuracy: 0.5117 - val_loss: 113426.6172 - val_accuracy: 0.5587\n",
      "Epoch 2/20\n",
      "8/8 [==============================] - 0s 28ms/step - loss: 0.6928 - accuracy: 0.5242 - val_loss: 172491.1719 - val_accuracy: 0.5587\n",
      "Epoch 3/20\n",
      "8/8 [==============================] - 0s 28ms/step - loss: 0.6925 - accuracy: 0.5209 - val_loss: 182338.7344 - val_accuracy: 0.5592\n",
      "Epoch 4/20\n",
      "8/8 [==============================] - 0s 27ms/step - loss: 0.6917 - accuracy: 0.5255 - val_loss: 195441.2656 - val_accuracy: 0.5592\n",
      "Epoch 5/20\n",
      "8/8 [==============================] - 0s 26ms/step - loss: 0.6920 - accuracy: 0.5246 - val_loss: 197070.3125 - val_accuracy: 0.5592\n",
      "Epoch 6/20\n",
      "8/8 [==============================] - 0s 26ms/step - loss: 0.6920 - accuracy: 0.5244 - val_loss: 206071.7656 - val_accuracy: 0.5592\n",
      "Epoch 7/20\n",
      "8/8 [==============================] - 0s 26ms/step - loss: 0.6916 - accuracy: 0.5279 - val_loss: 207180.1406 - val_accuracy: 0.5592\n",
      "Epoch 8/20\n",
      "8/8 [==============================] - 0s 26ms/step - loss: 0.6914 - accuracy: 0.5231 - val_loss: 224076.5156 - val_accuracy: 0.5592\n",
      "Epoch 9/20\n",
      "8/8 [==============================] - 0s 26ms/step - loss: 0.6911 - accuracy: 0.5286 - val_loss: 245572.7656 - val_accuracy: 0.5592\n",
      "Epoch 10/20\n",
      "8/8 [==============================] - 0s 26ms/step - loss: 0.6916 - accuracy: 0.5300 - val_loss: 253989.3281 - val_accuracy: 0.5592\n",
      "Epoch 11/20\n",
      "8/8 [==============================] - 0s 25ms/step - loss: 0.6915 - accuracy: 0.5243 - val_loss: 259799.2188 - val_accuracy: 0.5592\n",
      "Epoch 12/20\n",
      "8/8 [==============================] - 0s 26ms/step - loss: 0.6915 - accuracy: 0.5281 - val_loss: 258100.6719 - val_accuracy: 0.5592\n",
      "Epoch 13/20\n",
      "8/8 [==============================] - 0s 26ms/step - loss: 0.6911 - accuracy: 0.5284 - val_loss: 271516.2500 - val_accuracy: 0.5592\n",
      "Epoch 14/20\n",
      "8/8 [==============================] - 0s 26ms/step - loss: 0.6910 - accuracy: 0.5282 - val_loss: 301778.1875 - val_accuracy: 0.5592\n",
      "Epoch 15/20\n",
      "8/8 [==============================] - 0s 33ms/step - loss: 0.6910 - accuracy: 0.5256 - val_loss: 316897.0312 - val_accuracy: 0.5592\n",
      "Epoch 16/20\n",
      "8/8 [==============================] - 0s 27ms/step - loss: 0.6910 - accuracy: 0.5268 - val_loss: 319524.1562 - val_accuracy: 0.5592\n",
      "Epoch 17/20\n",
      "8/8 [==============================] - 0s 26ms/step - loss: 0.6907 - accuracy: 0.5229 - val_loss: 326114.8750 - val_accuracy: 0.5592\n",
      "Epoch 18/20\n",
      "8/8 [==============================] - 0s 25ms/step - loss: 0.6904 - accuracy: 0.5307 - val_loss: 340826.1562 - val_accuracy: 0.5592\n",
      "Epoch 19/20\n",
      "8/8 [==============================] - 0s 27ms/step - loss: 0.6908 - accuracy: 0.5289 - val_loss: 359664.0625 - val_accuracy: 0.5592\n",
      "Epoch 20/20\n",
      "8/8 [==============================] - 0s 28ms/step - loss: 0.6910 - accuracy: 0.5265 - val_loss: 374317.0000 - val_accuracy: 0.5592\n"
     ]
    }
   ],
   "source": [
    "# Model Building\n",
    "model = Sequential()\n",
    "model.add(Conv1D(filters=32, kernel_size=kernelSize, padding='same', activation='relu', input_shape=(nFeatures, 1)))\n",
    "model.add(Conv1D(filters=64, kernel_size=kernelSize, padding='same'))\n",
    "model.add(LeakyReLU(alpha=0.01))\n",
    "model.add(MaxPooling1D(pool_size=(1)))\n",
    "model.add(Conv1D(filters=128, kernel_size=kernelSize, padding='same'))\n",
    "model.add(LeakyReLU(alpha=0.01))\n",
    "model.add(Flatten())\n",
    "model.add(Dense(256,))\n",
    "model.add(LeakyReLU(alpha=0.01))\n",
    "model.add(Dropout(0.8))\n",
    "model.add(Dense(nOutput, activation='sigmoid'))\n",
    "model.compile(loss='binary_crossentropy', optimizer='adam', metrics=['accuracy'])\n",
    "model.summary()\n",
    "\n",
    "# Fit the model\n",
    "fitReturn = model.fit(trainX, trainY, validation_data=(testX, testY), epochs=epochs, batch_size=batchSize, verbose=1)"
   ]
  },
  {
   "cell_type": "markdown",
   "metadata": {
    "papermill": {
     "duration": 0.052741,
     "end_time": "2020-11-05T10:10:59.380810",
     "exception": false,
     "start_time": "2020-11-05T10:10:59.328069",
     "status": "completed"
    },
    "tags": []
   },
   "source": [
    "## Results Exploitation"
   ]
  },
  {
   "cell_type": "code",
   "execution_count": 7,
   "metadata": {
    "execution": {
     "iopub.execute_input": "2020-11-05T10:10:59.506607Z",
     "iopub.status.busy": "2020-11-05T10:10:59.505783Z",
     "iopub.status.idle": "2020-11-05T10:10:59.714496Z",
     "shell.execute_reply": "2020-11-05T10:10:59.715099Z"
    },
    "papermill": {
     "duration": 0.279194,
     "end_time": "2020-11-05T10:10:59.715296",
     "exception": false,
     "start_time": "2020-11-05T10:10:59.436102",
     "status": "completed"
    },
    "tags": []
   },
   "outputs": [
    {
     "data": {
      "image/png": "[encoded data removed]",
      "text/plain": [
       "<Figure size 432x288 with 1 Axes>"
      ]
     },
     "metadata": {
      "needs_background": "light"
     },
     "output_type": "display_data"
    }
   ],
   "source": [
    "plt.title('Loss')\n",
    "plt.grid(True)\n",
    "plt.xlabel('Epochs')\n",
    "plt.ylabel('Values')\n",
    "plt.plot(fitReturn.history['loss'], 'blue', label='Train Loss')\n",
    "plt.plot(fitReturn.history['val_loss'], 'red', label='Test Loss')\n",
    "plt.legend()\n",
    "plt.show()\n",
    "plt.close()"
   ]
  },
  {
   "cell_type": "code",
   "execution_count": 8,
   "metadata": {
    "execution": {
     "iopub.execute_input": "2020-11-05T10:10:59.848794Z",
     "iopub.status.busy": "2020-11-05T10:10:59.847878Z",
     "iopub.status.idle": "2020-11-05T10:11:00.070197Z",
     "shell.execute_reply": "2020-11-05T10:11:00.070795Z"
    },
    "papermill": {
     "duration": 0.297522,
     "end_time": "2020-11-05T10:11:00.070969",
     "exception": false,
     "start_time": "2020-11-05T10:10:59.773447",
     "status": "completed"
    },
    "tags": []
   },
   "outputs": [
    {
     "data": {
      "image/png": "[encoded data removed]",
      "text/plain": [
       "<Figure size 432x288 with 1 Axes>"
      ]
     },
     "metadata": {
      "needs_background": "light"
     },
     "output_type": "display_data"
    }
   ],
   "source": [
    "plt.title('Accuracy')\n",
    "plt.grid(True)\n",
    "plt.xlabel('Epochs')\n",
    "plt.ylabel('Values')\n",
    "plt.plot(fitReturn.history['accuracy'], 'blue', label='Train Accuracy')\n",
    "plt.plot(fitReturn.history['val_accuracy'], 'red', label='Test Accuracy')\n",
    "plt.legend()\n",
    "plt.show()\n",
    "plt.close()"
   ]
  },
  {
   "cell_type": "code",
   "execution_count": 9,
   "metadata": {
    "execution": {
     "iopub.execute_input": "2020-11-05T10:11:00.200202Z",
     "iopub.status.busy": "2020-11-05T10:11:00.199372Z",
     "iopub.status.idle": "2020-11-05T10:11:00.446467Z",
     "shell.execute_reply": "2020-11-05T10:11:00.447491Z"
    },
    "papermill": {
     "duration": 0.318015,
     "end_time": "2020-11-05T10:11:00.447705",
     "exception": false,
     "start_time": "2020-11-05T10:11:00.129690",
     "status": "completed"
    },
    "tags": []
   },
   "outputs": [
    {
     "name": "stdout",
     "output_type": "stream",
     "text": [
      "Test Set - Sell signal : 842\n",
      "Test Set - Buy signal  : 1066\n",
      "========================================\n",
      "Predicted - Sell signal : 1\n",
      "Predicted - Buy signal  : 1907\n"
     ]
    }
   ],
   "source": [
    "# Predictions\n",
    "predictY = model.predict_classes(testX, verbose=0)\n",
    "predictY = predictY[:, 0]\n",
    "\n",
    "# Basic Counting\n",
    "testY0 = (testY == 0).sum()\n",
    "testY1 = (testY == 1).sum()\n",
    "print(\"Test Set - Sell signal : \"+str(testY0))\n",
    "print(\"Test Set - Buy signal  : \"+str(testY1))\n",
    "print(\"=\"*40)\n",
    "predictY0 = (predictY == 0).sum()\n",
    "predictY1 = (predictY == 1).sum()\n",
    "print(\"Predicted - Sell signal : \"+str(predictY0))\n",
    "print(\"Predicted - Buy signal  : \"+str(predictY1))"
   ]
  },
  {
   "cell_type": "code",
   "execution_count": 10,
   "metadata": {
    "execution": {
     "iopub.execute_input": "2020-11-05T10:11:00.583433Z",
     "iopub.status.busy": "2020-11-05T10:11:00.582065Z",
     "iopub.status.idle": "2020-11-05T10:11:00.599834Z",
     "shell.execute_reply": "2020-11-05T10:11:00.599188Z"
    },
    "papermill": {
     "duration": 0.091393,
     "end_time": "2020-11-05T10:11:00.600003",
     "exception": false,
     "start_time": "2020-11-05T10:11:00.508610",
     "status": "completed"
    },
    "tags": []
   },
   "outputs": [
    {
     "name": "stdout",
     "output_type": "stream",
     "text": [
      "Accuracy: 0.5592243186582809\n",
      "Precision: 0.5589931830099633\n",
      "Recall: 1.0\n",
      "F1 Score: 0.7171207534476959\n",
      "[[   1  841]\n",
      " [   0 1066]]\n"
     ]
    }
   ],
   "source": [
    "# Computing Scores\n",
    "accuracy = accuracy_score(testY, predictY)\n",
    "precision = precision_score(testY, predictY)\n",
    "recall = recall_score(testY, predictY)\n",
    "f1 = f1_score(testY, predictY)\n",
    "matrix = confusion_matrix(testY, predictY)\n",
    "print('Accuracy: '+str(accuracy))\n",
    "print('Precision: '+str(precision))\n",
    "print('Recall: '+str(recall))\n",
    "print('F1 Score: '+str(f1))\n",
    "print(matrix)"
   ]
  }
 ],
 "metadata": {
  "kernelspec": {
   "display_name": "Python 3",
   "language": "python",
   "name": "python3"
  },
  "language_info": {
   "codemirror_mode": {
    "name": "ipython",
    "version": 3
   },
   "file_extension": ".py",
   "mimetype": "text/x-python",
   "name": "python",
   "nbconvert_exporter": "python",
   "pygments_lexer": "ipython3",
   "version": "3.7.6"
  },
  "papermill": {
   "duration": 21.693103,
   "end_time": "2020-11-05T10:11:00.769575",
   "environment_variables": {},
   "exception": null,
   "input_path": "__notebook__.ipynb",
   "output_path": "__notebook__.ipynb",
   "parameters": {},
   "start_time": "2020-11-05T10:10:39.076472",
   "version": "2.1.0"
  }
 },
 "nbformat": 4,
 "nbformat_minor": 4
}
